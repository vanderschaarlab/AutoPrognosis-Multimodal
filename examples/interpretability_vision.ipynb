{
 "cells": [
  {
   "cell_type": "markdown",
   "metadata": {},
   "source": [
    "## Google Colab Usage\n"
   ]
  },
  {
   "cell_type": "code",
   "execution_count": null,
   "metadata": {},
   "outputs": [],
   "source": [
    "!git clone https://github.com/vanderschaarlab/AutoPrognosis-Multimodal/"
   ]
  },
  {
   "cell_type": "code",
   "execution_count": null,
   "metadata": {},
   "outputs": [],
   "source": [
    "cd AutoPrognosis-Multimodal"
   ]
  },
  {
   "cell_type": "markdown",
   "metadata": {},
   "source": [
    "## Local Usage\n"
   ]
  },
  {
   "cell_type": "code",
   "execution_count": null,
   "metadata": {},
   "outputs": [],
   "source": [
    "cd ../"
   ]
  },
  {
   "cell_type": "markdown",
   "metadata": {},
   "source": [
    "Verify current working directory"
   ]
  },
  {
   "cell_type": "code",
   "execution_count": null,
   "metadata": {},
   "outputs": [],
   "source": [
    "import os\n",
    "from pathlib import Path\n",
    "\n",
    "assert (\n",
    "    Path(os.getcwd()).name == \"AutoPrognosis-Multimodal\"\n",
    "), f\"It seems like your are in the wrong directory ({os.getcwd()}), make sure to change to the autoprognosis_m directory.\""
   ]
  },
  {
   "cell_type": "markdown",
   "metadata": {},
   "source": [
    "# Interpretability\n",
    "\n",
    "Use integrated gradients to visualize the most important factors in the prediction"
   ]
  },
  {
   "cell_type": "code",
   "execution_count": null,
   "metadata": {},
   "outputs": [],
   "source": [
    "import json\n",
    "from src.interpretability_vision import interpretability_vision\n",
    "import pandas as pd\n",
    "\n",
    "from src.utils.utils import dict_to_namespace\n",
    "\n",
    "# path to config file\n",
    "config_file = \"experiments/ResNet18/04b799ab02/config.json\"\n",
    "# path to dataframe\n",
    "df = pd.read_csv(\"data/folds/fold_0/test.csv\")\n",
    "\n",
    "# only use the first 5 samples\n",
    "df = df[:5]\n",
    "\n",
    "interpretability_vision(\n",
    "    dict_to_namespace(json.load(open(config_file, \"r\"))),\n",
    "    df,\n",
    ")"
   ]
  }
 ],
 "metadata": {
  "kernelspec": {
   "display_name": "Python 3 (ipykernel)",
   "language": "python",
   "name": "python3"
  },
  "language_info": {
   "codemirror_mode": {
    "name": "ipython",
    "version": 3
   },
   "file_extension": ".py",
   "mimetype": "text/x-python",
   "name": "python",
   "nbconvert_exporter": "python",
   "pygments_lexer": "ipython3",
   "version": "3.11.9"
  }
 },
 "nbformat": 4,
 "nbformat_minor": 4
}
